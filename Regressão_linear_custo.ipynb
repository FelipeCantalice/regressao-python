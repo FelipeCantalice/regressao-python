{
  "nbformat": 4,
  "nbformat_minor": 0,
  "metadata": {
    "colab": {
      "name": "Regressão linear custo.ipynb",
      "provenance": []
    },
    "kernelspec": {
      "name": "python3",
      "display_name": "Python 3"
    },
    "language_info": {
      "name": "python"
    }
  },
  "cells": [
    {
      "cell_type": "markdown",
      "source": [
        "# Calcular o valor da quantidade com base no custo\n",
        "\n",
        "| Quantidade | Custo | x^2 | x * y |\n",
        "|------------|-------|-----|-------|\n",
        "| 10         | 100   | 100 | 1000  |\n",
        "| 11         | 112   | 121 | 1232  |\n",
        "| 12         | 119   | 144 | 1428  |\n",
        "| 13         | 130   | 169 | 1690  |\n",
        "| 14         | 139   | 196 | 1946  |\n",
        "| 15         | 142   | 225 | 2130  |\n",
        "| Sum: 75    | 742   | 94  | 955   |"
      ],
      "metadata": {
        "id": "6GJbK1_tIEOO"
      }
    },
    {
      "cell_type": "markdown",
      "source": [
        "## Bibliotecas"
      ],
      "metadata": {
        "id": "5_7yA0LhORd4"
      }
    },
    {
      "cell_type": "code",
      "source": [
        "import matplotlib.pyplot as plt\n",
        "import numpy as np\n",
        "from sklearn.linear_model import LinearRegression"
      ],
      "metadata": {
        "id": "quJ_O3uUOPwx"
      },
      "execution_count": null,
      "outputs": []
    },
    {
      "cell_type": "markdown",
      "source": [
        "## Dados\n",
        "\n",
        "x - Quantidade\n",
        "y - Custo"
      ],
      "metadata": {
        "id": "vIZxAUDpOVY4"
      }
    },
    {
      "cell_type": "code",
      "execution_count": null,
      "metadata": {
        "id": "jBEGbCImo5lD",
        "colab": {
          "base_uri": "https://localhost:8080/"
        },
        "outputId": "60b18d96-4dc2-465b-8a34-e91857f9763f"
      },
      "outputs": [
        {
          "output_type": "execute_result",
          "data": {
            "text/plain": [
              "array([[100],\n",
              "       [112],\n",
              "       [119],\n",
              "       [130],\n",
              "       [139],\n",
              "       [142]])"
            ]
          },
          "metadata": {},
          "execution_count": 22
        }
      ],
      "source": [
        "\n",
        "\n",
        "X = np.array([10,11,12,13,14,15]).reshape(-1,1)\n",
        "y = np.array([100,112,119, 130, 139, 142]).reshape(-1,1)"
      ]
    },
    {
      "cell_type": "markdown",
      "source": [
        "## Modelo de regressão simples"
      ],
      "metadata": {
        "id": "Yi6EQegcOczn"
      }
    },
    {
      "cell_type": "code",
      "source": [
        "model = LinearRegression()\n",
        "\n",
        "model.fit(X, y)"
      ],
      "metadata": {
        "colab": {
          "base_uri": "https://localhost:8080/"
        },
        "id": "3r2XmRn8pIHK",
        "outputId": "720ebaed-09e5-4233-9c02-dfafce4b1477"
      },
      "execution_count": null,
      "outputs": [
        {
          "output_type": "execute_result",
          "data": {
            "text/plain": [
              "LinearRegression()"
            ]
          },
          "metadata": {},
          "execution_count": 23
        }
      ]
    },
    {
      "cell_type": "code",
      "source": [
        "plt.scatter(X, y, color ='b') \n",
        "plt.plot(X, y, color ='k') "
      ],
      "metadata": {
        "id": "xh5IGDryOk2u"
      },
      "execution_count": null,
      "outputs": []
    },
    {
      "cell_type": "markdown",
      "source": [
        "## Predizer o valor de 16 unidades"
      ],
      "metadata": {
        "id": "XZZU0wlFOmaM"
      }
    },
    {
      "cell_type": "code",
      "source": [
        "\n",
        "unidades = [16]\n",
        "\n",
        "y_pred = model.predict([unidades])"
      ],
      "metadata": {
        "colab": {
          "base_uri": "https://localhost:8080/",
          "height": 282
        },
        "id": "6_IC1tDLqtVW",
        "outputId": "5cad958e-ad67-481e-bc21-44f37a12f9f4"
      },
      "execution_count": null,
      "outputs": [
        {
          "output_type": "execute_result",
          "data": {
            "text/plain": [
              "[<matplotlib.lines.Line2D at 0x7fde31cc9d10>]"
            ]
          },
          "metadata": {},
          "execution_count": 39
        },
        {
          "output_type": "display_data",
          "data": {
            "text/plain": [
              "<Figure size 432x288 with 1 Axes>"
            ],
            "image/png": "[encoded data removed]"
          },
          "metadata": {
            "needs_background": "light"
          }
        }
      ]
    },
    {
      "cell_type": "markdown",
      "source": [
        "## Métricas"
      ],
      "metadata": {
        "id": "eNkVHoWtOtMY"
      }
    },
    {
      "cell_type": "code",
      "source": [
        "from sklearn.metrics import mean_squared_error, r2_score\n",
        "predictions = model.predict(X)\n",
        "r2 = r2_score(y, predictions)\n",
        "rmse = mean_squared_error(y, predictions, squared=False)\n",
        "\n",
        "print('The r2 is: ', r2)\n",
        "print('The rmse is: ', rmse)\n",
        "\n",
        "\n",
        "print(f'Custo de unidades {unidades} ', y_pred)"
      ],
      "metadata": {
        "colab": {
          "base_uri": "https://localhost:8080/"
        },
        "id": "7gPXHGqDqf_R",
        "outputId": "0f82cbcf-1721-42c7-ab4b-2e8f5129df2a"
      },
      "execution_count": null,
      "outputs": [
        {
          "output_type": "stream",
          "name": "stdout",
          "text": [
            "The r2 is:  0.9801260925634044\n",
            "The rmse is:  2.098374276237347\n",
            "Custo de unidades [16]  [[153.86666667]]\n"
          ]
        }
      ]
    }
  ]
}